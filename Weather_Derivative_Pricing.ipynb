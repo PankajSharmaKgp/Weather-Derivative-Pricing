{
  "nbformat": 4,
  "nbformat_minor": 0,
  "metadata": {
    "colab": {
      "provenance": []
    },
    "kernelspec": {
      "name": "python3",
      "display_name": "Python 3"
    },
    "language_info": {
      "name": "python"
    }
  },
  "cells": [
    {
      "cell_type": "code",
      "execution_count": null,
      "metadata": {
        "id": "M7Nu6mnZhd1f"
      },
      "outputs": [],
      "source": [
        "import pandas as pd\n"
      ]
    },
    {
      "cell_type": "code",
      "source": [
        "data=pd.read_csv(\"temp data.csv\")"
      ],
      "metadata": {
        "id": "JumJIofjp1P6"
      },
      "execution_count": null,
      "outputs": []
    },
    {
      "cell_type": "code",
      "source": [
        "data.head()"
      ],
      "metadata": {
        "colab": {
          "base_uri": "https://localhost:8080/",
          "height": 206
        },
        "id": "95M51WvXqXbn",
        "outputId": "b44f9157-1f29-47f8-dddb-2f93e140195b"
      },
      "execution_count": null,
      "outputs": [
        {
          "output_type": "execute_result",
          "data": {
            "text/plain": [
              "   Year  Month  Day  Maximum temperature (Degree C)  \\\n",
              "0  1859      1    1                            24.4   \n",
              "1  1859      1    2                            24.4   \n",
              "2  1859      1    3                            24.2   \n",
              "3  1859      1    4                            24.7   \n",
              "4  1859      1    5                            24.6   \n",
              "\n",
              "   Minimum temperature (Degree C)  \n",
              "0                            14.5  \n",
              "1                            15.7  \n",
              "2                            15.3  \n",
              "3                            17.4  \n",
              "4                            16.9  "
            ],
            "text/html": [
              "\n",
              "  <div id=\"df-db139807-e3a5-41fa-a9d1-2cb69777ef50\">\n",
              "    <div class=\"colab-df-container\">\n",
              "      <div>\n",
              "<style scoped>\n",
              "    .dataframe tbody tr th:only-of-type {\n",
              "        vertical-align: middle;\n",
              "    }\n",
              "\n",
              "    .dataframe tbody tr th {\n",
              "        vertical-align: top;\n",
              "    }\n",
              "\n",
              "    .dataframe thead th {\n",
              "        text-align: right;\n",
              "    }\n",
              "</style>\n",
              "<table border=\"1\" class=\"dataframe\">\n",
              "  <thead>\n",
              "    <tr style=\"text-align: right;\">\n",
              "      <th></th>\n",
              "      <th>Year</th>\n",
              "      <th>Month</th>\n",
              "      <th>Day</th>\n",
              "      <th>Maximum temperature (Degree C)</th>\n",
              "      <th>Minimum temperature (Degree C)</th>\n",
              "    </tr>\n",
              "  </thead>\n",
              "  <tbody>\n",
              "    <tr>\n",
              "      <th>0</th>\n",
              "      <td>1859</td>\n",
              "      <td>1</td>\n",
              "      <td>1</td>\n",
              "      <td>24.4</td>\n",
              "      <td>14.5</td>\n",
              "    </tr>\n",
              "    <tr>\n",
              "      <th>1</th>\n",
              "      <td>1859</td>\n",
              "      <td>1</td>\n",
              "      <td>2</td>\n",
              "      <td>24.4</td>\n",
              "      <td>15.7</td>\n",
              "    </tr>\n",
              "    <tr>\n",
              "      <th>2</th>\n",
              "      <td>1859</td>\n",
              "      <td>1</td>\n",
              "      <td>3</td>\n",
              "      <td>24.2</td>\n",
              "      <td>15.3</td>\n",
              "    </tr>\n",
              "    <tr>\n",
              "      <th>3</th>\n",
              "      <td>1859</td>\n",
              "      <td>1</td>\n",
              "      <td>4</td>\n",
              "      <td>24.7</td>\n",
              "      <td>17.4</td>\n",
              "    </tr>\n",
              "    <tr>\n",
              "      <th>4</th>\n",
              "      <td>1859</td>\n",
              "      <td>1</td>\n",
              "      <td>5</td>\n",
              "      <td>24.6</td>\n",
              "      <td>16.9</td>\n",
              "    </tr>\n",
              "  </tbody>\n",
              "</table>\n",
              "</div>\n",
              "      <button class=\"colab-df-convert\" onclick=\"convertToInteractive('df-db139807-e3a5-41fa-a9d1-2cb69777ef50')\"\n",
              "              title=\"Convert this dataframe to an interactive table.\"\n",
              "              style=\"display:none;\">\n",
              "        \n",
              "  <svg xmlns=\"http://www.w3.org/2000/svg\" height=\"24px\"viewBox=\"0 0 24 24\"\n",
              "       width=\"24px\">\n",
              "    <path d=\"M0 0h24v24H0V0z\" fill=\"none\"/>\n",
              "    <path d=\"M18.56 5.44l.94 2.06.94-2.06 2.06-.94-2.06-.94-.94-2.06-.94 2.06-2.06.94zm-11 1L8.5 8.5l.94-2.06 2.06-.94-2.06-.94L8.5 2.5l-.94 2.06-2.06.94zm10 10l.94 2.06.94-2.06 2.06-.94-2.06-.94-.94-2.06-.94 2.06-2.06.94z\"/><path d=\"M17.41 7.96l-1.37-1.37c-.4-.4-.92-.59-1.43-.59-.52 0-1.04.2-1.43.59L10.3 9.45l-7.72 7.72c-.78.78-.78 2.05 0 2.83L4 21.41c.39.39.9.59 1.41.59.51 0 1.02-.2 1.41-.59l7.78-7.78 2.81-2.81c.8-.78.8-2.07 0-2.86zM5.41 20L4 18.59l7.72-7.72 1.47 1.35L5.41 20z\"/>\n",
              "  </svg>\n",
              "      </button>\n",
              "      \n",
              "  <style>\n",
              "    .colab-df-container {\n",
              "      display:flex;\n",
              "      flex-wrap:wrap;\n",
              "      gap: 12px;\n",
              "    }\n",
              "\n",
              "    .colab-df-convert {\n",
              "      background-color: #E8F0FE;\n",
              "      border: none;\n",
              "      border-radius: 50%;\n",
              "      cursor: pointer;\n",
              "      display: none;\n",
              "      fill: #1967D2;\n",
              "      height: 32px;\n",
              "      padding: 0 0 0 0;\n",
              "      width: 32px;\n",
              "    }\n",
              "\n",
              "    .colab-df-convert:hover {\n",
              "      background-color: #E2EBFA;\n",
              "      box-shadow: 0px 1px 2px rgba(60, 64, 67, 0.3), 0px 1px 3px 1px rgba(60, 64, 67, 0.15);\n",
              "      fill: #174EA6;\n",
              "    }\n",
              "\n",
              "    [theme=dark] .colab-df-convert {\n",
              "      background-color: #3B4455;\n",
              "      fill: #D2E3FC;\n",
              "    }\n",
              "\n",
              "    [theme=dark] .colab-df-convert:hover {\n",
              "      background-color: #434B5C;\n",
              "      box-shadow: 0px 1px 3px 1px rgba(0, 0, 0, 0.15);\n",
              "      filter: drop-shadow(0px 1px 2px rgba(0, 0, 0, 0.3));\n",
              "      fill: #FFFFFF;\n",
              "    }\n",
              "  </style>\n",
              "\n",
              "      <script>\n",
              "        const buttonEl =\n",
              "          document.querySelector('#df-db139807-e3a5-41fa-a9d1-2cb69777ef50 button.colab-df-convert');\n",
              "        buttonEl.style.display =\n",
              "          google.colab.kernel.accessAllowed ? 'block' : 'none';\n",
              "\n",
              "        async function convertToInteractive(key) {\n",
              "          const element = document.querySelector('#df-db139807-e3a5-41fa-a9d1-2cb69777ef50');\n",
              "          const dataTable =\n",
              "            await google.colab.kernel.invokeFunction('convertToInteractive',\n",
              "                                                     [key], {});\n",
              "          if (!dataTable) return;\n",
              "\n",
              "          const docLinkHtml = 'Like what you see? Visit the ' +\n",
              "            '<a target=\"_blank\" href=https://colab.research.google.com/notebooks/data_table.ipynb>data table notebook</a>'\n",
              "            + ' to learn more about interactive tables.';\n",
              "          element.innerHTML = '';\n",
              "          dataTable['output_type'] = 'display_data';\n",
              "          await google.colab.output.renderOutput(dataTable, element);\n",
              "          const docLink = document.createElement('div');\n",
              "          docLink.innerHTML = docLinkHtml;\n",
              "          element.appendChild(docLink);\n",
              "        }\n",
              "      </script>\n",
              "    </div>\n",
              "  </div>\n",
              "  "
            ]
          },
          "metadata": {},
          "execution_count": 3
        }
      ]
    },
    {
      "cell_type": "code",
      "source": [
        "import os\n",
        "import numpy as np\n",
        "import matplotlib.pyplot as plt\n",
        "import datetime as dt"
      ],
      "metadata": {
        "id": "GaGbVzzdqeDH"
      },
      "execution_count": null,
      "outputs": []
    },
    {
      "cell_type": "code",
      "source": [
        "data=data.dropna()"
      ],
      "metadata": {
        "id": "DGnRH_RPwk9i"
      },
      "execution_count": null,
      "outputs": []
    },
    {
      "cell_type": "code",
      "source": [
        "data['date']=pd.to_datetime(data[['Year','Month','Day']])\n",
        "data.set_index('date',inplace=True)\n",
        "drop_cols=[0,1,2]\n",
        "data.drop(data.columns[drop_cols],axis=1,inplace=True)\n",
        "data.rename(columns={'Maximum temperature (Degree C)':'Tmax','Minimum temperature (Degree C)':'Tmin'},inplace=True)\n"
      ],
      "metadata": {
        "id": "0GwkjSnPrttb",
        "colab": {
          "base_uri": "https://localhost:8080/"
        },
        "outputId": "0eb47ff6-30e9-4f7c-9397-9cfa2d843e8c"
      },
      "execution_count": null,
      "outputs": [
        {
          "output_type": "stream",
          "name": "stderr",
          "text": [
            "<ipython-input-6-5030eb7fb8ae>:1: SettingWithCopyWarning: \n",
            "A value is trying to be set on a copy of a slice from a DataFrame.\n",
            "Try using .loc[row_indexer,col_indexer] = value instead\n",
            "\n",
            "See the caveats in the documentation: https://pandas.pydata.org/pandas-docs/stable/user_guide/indexing.html#returning-a-view-versus-a-copy\n",
            "  data['date']=pd.to_datetime(data[['Year','Month','Day']])\n",
            "/usr/local/lib/python3.8/dist-packages/pandas/core/frame.py:4906: SettingWithCopyWarning: \n",
            "A value is trying to be set on a copy of a slice from a DataFrame\n",
            "\n",
            "See the caveats in the documentation: https://pandas.pydata.org/pandas-docs/stable/user_guide/indexing.html#returning-a-view-versus-a-copy\n",
            "  return super().drop(\n",
            "/usr/local/lib/python3.8/dist-packages/pandas/core/frame.py:5039: SettingWithCopyWarning: \n",
            "A value is trying to be set on a copy of a slice from a DataFrame\n",
            "\n",
            "See the caveats in the documentation: https://pandas.pydata.org/pandas-docs/stable/user_guide/indexing.html#returning-a-view-versus-a-copy\n",
            "  return super().rename(\n"
          ]
        }
      ]
    },
    {
      "cell_type": "code",
      "source": [
        "data.head()"
      ],
      "metadata": {
        "colab": {
          "base_uri": "https://localhost:8080/",
          "height": 237
        },
        "id": "0uqmhNHn2WVJ",
        "outputId": "8062b852-78c7-434d-ed3f-4d530497a18e"
      },
      "execution_count": null,
      "outputs": [
        {
          "output_type": "execute_result",
          "data": {
            "text/plain": [
              "            Tmax  Tmin\n",
              "date                  \n",
              "1859-01-01  24.4  14.5\n",
              "1859-01-02  24.4  15.7\n",
              "1859-01-03  24.2  15.3\n",
              "1859-01-04  24.7  17.4\n",
              "1859-01-05  24.6  16.9"
            ],
            "text/html": [
              "\n",
              "  <div id=\"df-5a8bc406-05a5-4bc4-ae02-9076c24ec812\">\n",
              "    <div class=\"colab-df-container\">\n",
              "      <div>\n",
              "<style scoped>\n",
              "    .dataframe tbody tr th:only-of-type {\n",
              "        vertical-align: middle;\n",
              "    }\n",
              "\n",
              "    .dataframe tbody tr th {\n",
              "        vertical-align: top;\n",
              "    }\n",
              "\n",
              "    .dataframe thead th {\n",
              "        text-align: right;\n",
              "    }\n",
              "</style>\n",
              "<table border=\"1\" class=\"dataframe\">\n",
              "  <thead>\n",
              "    <tr style=\"text-align: right;\">\n",
              "      <th></th>\n",
              "      <th>Tmax</th>\n",
              "      <th>Tmin</th>\n",
              "    </tr>\n",
              "    <tr>\n",
              "      <th>date</th>\n",
              "      <th></th>\n",
              "      <th></th>\n",
              "    </tr>\n",
              "  </thead>\n",
              "  <tbody>\n",
              "    <tr>\n",
              "      <th>1859-01-01</th>\n",
              "      <td>24.4</td>\n",
              "      <td>14.5</td>\n",
              "    </tr>\n",
              "    <tr>\n",
              "      <th>1859-01-02</th>\n",
              "      <td>24.4</td>\n",
              "      <td>15.7</td>\n",
              "    </tr>\n",
              "    <tr>\n",
              "      <th>1859-01-03</th>\n",
              "      <td>24.2</td>\n",
              "      <td>15.3</td>\n",
              "    </tr>\n",
              "    <tr>\n",
              "      <th>1859-01-04</th>\n",
              "      <td>24.7</td>\n",
              "      <td>17.4</td>\n",
              "    </tr>\n",
              "    <tr>\n",
              "      <th>1859-01-05</th>\n",
              "      <td>24.6</td>\n",
              "      <td>16.9</td>\n",
              "    </tr>\n",
              "  </tbody>\n",
              "</table>\n",
              "</div>\n",
              "      <button class=\"colab-df-convert\" onclick=\"convertToInteractive('df-5a8bc406-05a5-4bc4-ae02-9076c24ec812')\"\n",
              "              title=\"Convert this dataframe to an interactive table.\"\n",
              "              style=\"display:none;\">\n",
              "        \n",
              "  <svg xmlns=\"http://www.w3.org/2000/svg\" height=\"24px\"viewBox=\"0 0 24 24\"\n",
              "       width=\"24px\">\n",
              "    <path d=\"M0 0h24v24H0V0z\" fill=\"none\"/>\n",
              "    <path d=\"M18.56 5.44l.94 2.06.94-2.06 2.06-.94-2.06-.94-.94-2.06-.94 2.06-2.06.94zm-11 1L8.5 8.5l.94-2.06 2.06-.94-2.06-.94L8.5 2.5l-.94 2.06-2.06.94zm10 10l.94 2.06.94-2.06 2.06-.94-2.06-.94-.94-2.06-.94 2.06-2.06.94z\"/><path d=\"M17.41 7.96l-1.37-1.37c-.4-.4-.92-.59-1.43-.59-.52 0-1.04.2-1.43.59L10.3 9.45l-7.72 7.72c-.78.78-.78 2.05 0 2.83L4 21.41c.39.39.9.59 1.41.59.51 0 1.02-.2 1.41-.59l7.78-7.78 2.81-2.81c.8-.78.8-2.07 0-2.86zM5.41 20L4 18.59l7.72-7.72 1.47 1.35L5.41 20z\"/>\n",
              "  </svg>\n",
              "      </button>\n",
              "      \n",
              "  <style>\n",
              "    .colab-df-container {\n",
              "      display:flex;\n",
              "      flex-wrap:wrap;\n",
              "      gap: 12px;\n",
              "    }\n",
              "\n",
              "    .colab-df-convert {\n",
              "      background-color: #E8F0FE;\n",
              "      border: none;\n",
              "      border-radius: 50%;\n",
              "      cursor: pointer;\n",
              "      display: none;\n",
              "      fill: #1967D2;\n",
              "      height: 32px;\n",
              "      padding: 0 0 0 0;\n",
              "      width: 32px;\n",
              "    }\n",
              "\n",
              "    .colab-df-convert:hover {\n",
              "      background-color: #E2EBFA;\n",
              "      box-shadow: 0px 1px 2px rgba(60, 64, 67, 0.3), 0px 1px 3px 1px rgba(60, 64, 67, 0.15);\n",
              "      fill: #174EA6;\n",
              "    }\n",
              "\n",
              "    [theme=dark] .colab-df-convert {\n",
              "      background-color: #3B4455;\n",
              "      fill: #D2E3FC;\n",
              "    }\n",
              "\n",
              "    [theme=dark] .colab-df-convert:hover {\n",
              "      background-color: #434B5C;\n",
              "      box-shadow: 0px 1px 3px 1px rgba(0, 0, 0, 0.15);\n",
              "      filter: drop-shadow(0px 1px 2px rgba(0, 0, 0, 0.3));\n",
              "      fill: #FFFFFF;\n",
              "    }\n",
              "  </style>\n",
              "\n",
              "      <script>\n",
              "        const buttonEl =\n",
              "          document.querySelector('#df-5a8bc406-05a5-4bc4-ae02-9076c24ec812 button.colab-df-convert');\n",
              "        buttonEl.style.display =\n",
              "          google.colab.kernel.accessAllowed ? 'block' : 'none';\n",
              "\n",
              "        async function convertToInteractive(key) {\n",
              "          const element = document.querySelector('#df-5a8bc406-05a5-4bc4-ae02-9076c24ec812');\n",
              "          const dataTable =\n",
              "            await google.colab.kernel.invokeFunction('convertToInteractive',\n",
              "                                                     [key], {});\n",
              "          if (!dataTable) return;\n",
              "\n",
              "          const docLinkHtml = 'Like what you see? Visit the ' +\n",
              "            '<a target=\"_blank\" href=https://colab.research.google.com/notebooks/data_table.ipynb>data table notebook</a>'\n",
              "            + ' to learn more about interactive tables.';\n",
              "          element.innerHTML = '';\n",
              "          dataTable['output_type'] = 'display_data';\n",
              "          await google.colab.output.renderOutput(dataTable, element);\n",
              "          const docLink = document.createElement('div');\n",
              "          docLink.innerHTML = docLinkHtml;\n",
              "          element.appendChild(docLink);\n",
              "        }\n",
              "      </script>\n",
              "    </div>\n",
              "  </div>\n",
              "  "
            ]
          },
          "metadata": {},
          "execution_count": 7
        }
      ]
    },
    {
      "cell_type": "code",
      "source": [
        "data['T']=(data['Tmax']+data['Tmin'])/2"
      ],
      "metadata": {
        "id": "q-VnhK7Y2aIi",
        "colab": {
          "base_uri": "https://localhost:8080/"
        },
        "outputId": "0b78502a-120b-4d3b-e14c-ac283df167ed"
      },
      "execution_count": null,
      "outputs": [
        {
          "output_type": "stream",
          "name": "stderr",
          "text": [
            "<ipython-input-8-94499ce5f3bb>:1: SettingWithCopyWarning: \n",
            "A value is trying to be set on a copy of a slice from a DataFrame.\n",
            "Try using .loc[row_indexer,col_indexer] = value instead\n",
            "\n",
            "See the caveats in the documentation: https://pandas.pydata.org/pandas-docs/stable/user_guide/indexing.html#returning-a-view-versus-a-copy\n",
            "  data['T']=(data['Tmax']+data['Tmin'])/2\n"
          ]
        }
      ]
    },
    {
      "cell_type": "code",
      "source": [
        "data.head()"
      ],
      "metadata": {
        "colab": {
          "base_uri": "https://localhost:8080/",
          "height": 237
        },
        "id": "6qpUqMYS2kpL",
        "outputId": "3ac58b0c-17ea-458f-91a0-ca304118c0b3"
      },
      "execution_count": null,
      "outputs": [
        {
          "output_type": "execute_result",
          "data": {
            "text/plain": [
              "            Tmax  Tmin      T\n",
              "date                         \n",
              "1859-01-01  24.4  14.5  19.45\n",
              "1859-01-02  24.4  15.7  20.05\n",
              "1859-01-03  24.2  15.3  19.75\n",
              "1859-01-04  24.7  17.4  21.05\n",
              "1859-01-05  24.6  16.9  20.75"
            ],
            "text/html": [
              "\n",
              "  <div id=\"df-bce4f30a-aa67-4e41-8419-d589a92f2d5b\">\n",
              "    <div class=\"colab-df-container\">\n",
              "      <div>\n",
              "<style scoped>\n",
              "    .dataframe tbody tr th:only-of-type {\n",
              "        vertical-align: middle;\n",
              "    }\n",
              "\n",
              "    .dataframe tbody tr th {\n",
              "        vertical-align: top;\n",
              "    }\n",
              "\n",
              "    .dataframe thead th {\n",
              "        text-align: right;\n",
              "    }\n",
              "</style>\n",
              "<table border=\"1\" class=\"dataframe\">\n",
              "  <thead>\n",
              "    <tr style=\"text-align: right;\">\n",
              "      <th></th>\n",
              "      <th>Tmax</th>\n",
              "      <th>Tmin</th>\n",
              "      <th>T</th>\n",
              "    </tr>\n",
              "    <tr>\n",
              "      <th>date</th>\n",
              "      <th></th>\n",
              "      <th></th>\n",
              "      <th></th>\n",
              "    </tr>\n",
              "  </thead>\n",
              "  <tbody>\n",
              "    <tr>\n",
              "      <th>1859-01-01</th>\n",
              "      <td>24.4</td>\n",
              "      <td>14.5</td>\n",
              "      <td>19.45</td>\n",
              "    </tr>\n",
              "    <tr>\n",
              "      <th>1859-01-02</th>\n",
              "      <td>24.4</td>\n",
              "      <td>15.7</td>\n",
              "      <td>20.05</td>\n",
              "    </tr>\n",
              "    <tr>\n",
              "      <th>1859-01-03</th>\n",
              "      <td>24.2</td>\n",
              "      <td>15.3</td>\n",
              "      <td>19.75</td>\n",
              "    </tr>\n",
              "    <tr>\n",
              "      <th>1859-01-04</th>\n",
              "      <td>24.7</td>\n",
              "      <td>17.4</td>\n",
              "      <td>21.05</td>\n",
              "    </tr>\n",
              "    <tr>\n",
              "      <th>1859-01-05</th>\n",
              "      <td>24.6</td>\n",
              "      <td>16.9</td>\n",
              "      <td>20.75</td>\n",
              "    </tr>\n",
              "  </tbody>\n",
              "</table>\n",
              "</div>\n",
              "      <button class=\"colab-df-convert\" onclick=\"convertToInteractive('df-bce4f30a-aa67-4e41-8419-d589a92f2d5b')\"\n",
              "              title=\"Convert this dataframe to an interactive table.\"\n",
              "              style=\"display:none;\">\n",
              "        \n",
              "  <svg xmlns=\"http://www.w3.org/2000/svg\" height=\"24px\"viewBox=\"0 0 24 24\"\n",
              "       width=\"24px\">\n",
              "    <path d=\"M0 0h24v24H0V0z\" fill=\"none\"/>\n",
              "    <path d=\"M18.56 5.44l.94 2.06.94-2.06 2.06-.94-2.06-.94-.94-2.06-.94 2.06-2.06.94zm-11 1L8.5 8.5l.94-2.06 2.06-.94-2.06-.94L8.5 2.5l-.94 2.06-2.06.94zm10 10l.94 2.06.94-2.06 2.06-.94-2.06-.94-.94-2.06-.94 2.06-2.06.94z\"/><path d=\"M17.41 7.96l-1.37-1.37c-.4-.4-.92-.59-1.43-.59-.52 0-1.04.2-1.43.59L10.3 9.45l-7.72 7.72c-.78.78-.78 2.05 0 2.83L4 21.41c.39.39.9.59 1.41.59.51 0 1.02-.2 1.41-.59l7.78-7.78 2.81-2.81c.8-.78.8-2.07 0-2.86zM5.41 20L4 18.59l7.72-7.72 1.47 1.35L5.41 20z\"/>\n",
              "  </svg>\n",
              "      </button>\n",
              "      \n",
              "  <style>\n",
              "    .colab-df-container {\n",
              "      display:flex;\n",
              "      flex-wrap:wrap;\n",
              "      gap: 12px;\n",
              "    }\n",
              "\n",
              "    .colab-df-convert {\n",
              "      background-color: #E8F0FE;\n",
              "      border: none;\n",
              "      border-radius: 50%;\n",
              "      cursor: pointer;\n",
              "      display: none;\n",
              "      fill: #1967D2;\n",
              "      height: 32px;\n",
              "      padding: 0 0 0 0;\n",
              "      width: 32px;\n",
              "    }\n",
              "\n",
              "    .colab-df-convert:hover {\n",
              "      background-color: #E2EBFA;\n",
              "      box-shadow: 0px 1px 2px rgba(60, 64, 67, 0.3), 0px 1px 3px 1px rgba(60, 64, 67, 0.15);\n",
              "      fill: #174EA6;\n",
              "    }\n",
              "\n",
              "    [theme=dark] .colab-df-convert {\n",
              "      background-color: #3B4455;\n",
              "      fill: #D2E3FC;\n",
              "    }\n",
              "\n",
              "    [theme=dark] .colab-df-convert:hover {\n",
              "      background-color: #434B5C;\n",
              "      box-shadow: 0px 1px 3px 1px rgba(0, 0, 0, 0.15);\n",
              "      filter: drop-shadow(0px 1px 2px rgba(0, 0, 0, 0.3));\n",
              "      fill: #FFFFFF;\n",
              "    }\n",
              "  </style>\n",
              "\n",
              "      <script>\n",
              "        const buttonEl =\n",
              "          document.querySelector('#df-bce4f30a-aa67-4e41-8419-d589a92f2d5b button.colab-df-convert');\n",
              "        buttonEl.style.display =\n",
              "          google.colab.kernel.accessAllowed ? 'block' : 'none';\n",
              "\n",
              "        async function convertToInteractive(key) {\n",
              "          const element = document.querySelector('#df-bce4f30a-aa67-4e41-8419-d589a92f2d5b');\n",
              "          const dataTable =\n",
              "            await google.colab.kernel.invokeFunction('convertToInteractive',\n",
              "                                                     [key], {});\n",
              "          if (!dataTable) return;\n",
              "\n",
              "          const docLinkHtml = 'Like what you see? Visit the ' +\n",
              "            '<a target=\"_blank\" href=https://colab.research.google.com/notebooks/data_table.ipynb>data table notebook</a>'\n",
              "            + ' to learn more about interactive tables.';\n",
              "          element.innerHTML = '';\n",
              "          dataTable['output_type'] = 'display_data';\n",
              "          await google.colab.output.renderOutput(dataTable, element);\n",
              "          const docLink = document.createElement('div');\n",
              "          docLink.innerHTML = docLinkHtml;\n",
              "          element.appendChild(docLink);\n",
              "        }\n",
              "      </script>\n",
              "    </div>\n",
              "  </div>\n",
              "  "
            ]
          },
          "metadata": {},
          "execution_count": 9
        }
      ]
    },
    {
      "cell_type": "code",
      "source": [
        "from statsmodels.tsa.stattools import adfuller\n",
        "from statsmodels.tsa.seasonal import seasonal_decompose\n",
        "from statsmodels.graphics.tsaplots import plot_acf,plot_pacf\n",
        "from statsmodels.tsa.ar_model import AutoReg,ar_select_order,AutoRegResults"
      ],
      "metadata": {
        "id": "u34qcAiN3vf7"
      },
      "execution_count": null,
      "outputs": []
    },
    {
      "cell_type": "code",
      "source": [
        "\n",
        "data"
      ],
      "metadata": {
        "colab": {
          "base_uri": "https://localhost:8080/",
          "height": 455
        },
        "id": "56CweJun4bzW",
        "outputId": "8f602c3d-123e-4456-a07f-a9e423b61982"
      },
      "execution_count": null,
      "outputs": [
        {
          "output_type": "execute_result",
          "data": {
            "text/plain": [
              "            Tmax  Tmin      T\n",
              "date                         \n",
              "1859-01-01  24.4  14.5  19.45\n",
              "1859-01-02  24.4  15.7  20.05\n",
              "1859-01-03  24.2  15.3  19.75\n",
              "1859-01-04  24.7  17.4  21.05\n",
              "1859-01-05  24.6  16.9  20.75\n",
              "...          ...   ...    ...\n",
              "2020-08-26  19.6   6.8  13.20\n",
              "2020-08-27  22.2   6.8  14.50\n",
              "2020-08-28  19.7  10.4  15.05\n",
              "2020-08-29  21.5   7.9  14.70\n",
              "2020-08-30  25.3   8.9  17.10\n",
              "\n",
              "[58889 rows x 3 columns]"
            ],
            "text/html": [
              "\n",
              "  <div id=\"df-b663893e-e2cf-4f89-959f-52a601807961\">\n",
              "    <div class=\"colab-df-container\">\n",
              "      <div>\n",
              "<style scoped>\n",
              "    .dataframe tbody tr th:only-of-type {\n",
              "        vertical-align: middle;\n",
              "    }\n",
              "\n",
              "    .dataframe tbody tr th {\n",
              "        vertical-align: top;\n",
              "    }\n",
              "\n",
              "    .dataframe thead th {\n",
              "        text-align: right;\n",
              "    }\n",
              "</style>\n",
              "<table border=\"1\" class=\"dataframe\">\n",
              "  <thead>\n",
              "    <tr style=\"text-align: right;\">\n",
              "      <th></th>\n",
              "      <th>Tmax</th>\n",
              "      <th>Tmin</th>\n",
              "      <th>T</th>\n",
              "    </tr>\n",
              "    <tr>\n",
              "      <th>date</th>\n",
              "      <th></th>\n",
              "      <th></th>\n",
              "      <th></th>\n",
              "    </tr>\n",
              "  </thead>\n",
              "  <tbody>\n",
              "    <tr>\n",
              "      <th>1859-01-01</th>\n",
              "      <td>24.4</td>\n",
              "      <td>14.5</td>\n",
              "      <td>19.45</td>\n",
              "    </tr>\n",
              "    <tr>\n",
              "      <th>1859-01-02</th>\n",
              "      <td>24.4</td>\n",
              "      <td>15.7</td>\n",
              "      <td>20.05</td>\n",
              "    </tr>\n",
              "    <tr>\n",
              "      <th>1859-01-03</th>\n",
              "      <td>24.2</td>\n",
              "      <td>15.3</td>\n",
              "      <td>19.75</td>\n",
              "    </tr>\n",
              "    <tr>\n",
              "      <th>1859-01-04</th>\n",
              "      <td>24.7</td>\n",
              "      <td>17.4</td>\n",
              "      <td>21.05</td>\n",
              "    </tr>\n",
              "    <tr>\n",
              "      <th>1859-01-05</th>\n",
              "      <td>24.6</td>\n",
              "      <td>16.9</td>\n",
              "      <td>20.75</td>\n",
              "    </tr>\n",
              "    <tr>\n",
              "      <th>...</th>\n",
              "      <td>...</td>\n",
              "      <td>...</td>\n",
              "      <td>...</td>\n",
              "    </tr>\n",
              "    <tr>\n",
              "      <th>2020-08-26</th>\n",
              "      <td>19.6</td>\n",
              "      <td>6.8</td>\n",
              "      <td>13.20</td>\n",
              "    </tr>\n",
              "    <tr>\n",
              "      <th>2020-08-27</th>\n",
              "      <td>22.2</td>\n",
              "      <td>6.8</td>\n",
              "      <td>14.50</td>\n",
              "    </tr>\n",
              "    <tr>\n",
              "      <th>2020-08-28</th>\n",
              "      <td>19.7</td>\n",
              "      <td>10.4</td>\n",
              "      <td>15.05</td>\n",
              "    </tr>\n",
              "    <tr>\n",
              "      <th>2020-08-29</th>\n",
              "      <td>21.5</td>\n",
              "      <td>7.9</td>\n",
              "      <td>14.70</td>\n",
              "    </tr>\n",
              "    <tr>\n",
              "      <th>2020-08-30</th>\n",
              "      <td>25.3</td>\n",
              "      <td>8.9</td>\n",
              "      <td>17.10</td>\n",
              "    </tr>\n",
              "  </tbody>\n",
              "</table>\n",
              "<p>58889 rows × 3 columns</p>\n",
              "</div>\n",
              "      <button class=\"colab-df-convert\" onclick=\"convertToInteractive('df-b663893e-e2cf-4f89-959f-52a601807961')\"\n",
              "              title=\"Convert this dataframe to an interactive table.\"\n",
              "              style=\"display:none;\">\n",
              "        \n",
              "  <svg xmlns=\"http://www.w3.org/2000/svg\" height=\"24px\"viewBox=\"0 0 24 24\"\n",
              "       width=\"24px\">\n",
              "    <path d=\"M0 0h24v24H0V0z\" fill=\"none\"/>\n",
              "    <path d=\"M18.56 5.44l.94 2.06.94-2.06 2.06-.94-2.06-.94-.94-2.06-.94 2.06-2.06.94zm-11 1L8.5 8.5l.94-2.06 2.06-.94-2.06-.94L8.5 2.5l-.94 2.06-2.06.94zm10 10l.94 2.06.94-2.06 2.06-.94-2.06-.94-.94-2.06-.94 2.06-2.06.94z\"/><path d=\"M17.41 7.96l-1.37-1.37c-.4-.4-.92-.59-1.43-.59-.52 0-1.04.2-1.43.59L10.3 9.45l-7.72 7.72c-.78.78-.78 2.05 0 2.83L4 21.41c.39.39.9.59 1.41.59.51 0 1.02-.2 1.41-.59l7.78-7.78 2.81-2.81c.8-.78.8-2.07 0-2.86zM5.41 20L4 18.59l7.72-7.72 1.47 1.35L5.41 20z\"/>\n",
              "  </svg>\n",
              "      </button>\n",
              "      \n",
              "  <style>\n",
              "    .colab-df-container {\n",
              "      display:flex;\n",
              "      flex-wrap:wrap;\n",
              "      gap: 12px;\n",
              "    }\n",
              "\n",
              "    .colab-df-convert {\n",
              "      background-color: #E8F0FE;\n",
              "      border: none;\n",
              "      border-radius: 50%;\n",
              "      cursor: pointer;\n",
              "      display: none;\n",
              "      fill: #1967D2;\n",
              "      height: 32px;\n",
              "      padding: 0 0 0 0;\n",
              "      width: 32px;\n",
              "    }\n",
              "\n",
              "    .colab-df-convert:hover {\n",
              "      background-color: #E2EBFA;\n",
              "      box-shadow: 0px 1px 2px rgba(60, 64, 67, 0.3), 0px 1px 3px 1px rgba(60, 64, 67, 0.15);\n",
              "      fill: #174EA6;\n",
              "    }\n",
              "\n",
              "    [theme=dark] .colab-df-convert {\n",
              "      background-color: #3B4455;\n",
              "      fill: #D2E3FC;\n",
              "    }\n",
              "\n",
              "    [theme=dark] .colab-df-convert:hover {\n",
              "      background-color: #434B5C;\n",
              "      box-shadow: 0px 1px 3px 1px rgba(0, 0, 0, 0.15);\n",
              "      filter: drop-shadow(0px 1px 2px rgba(0, 0, 0, 0.3));\n",
              "      fill: #FFFFFF;\n",
              "    }\n",
              "  </style>\n",
              "\n",
              "      <script>\n",
              "        const buttonEl =\n",
              "          document.querySelector('#df-b663893e-e2cf-4f89-959f-52a601807961 button.colab-df-convert');\n",
              "        buttonEl.style.display =\n",
              "          google.colab.kernel.accessAllowed ? 'block' : 'none';\n",
              "\n",
              "        async function convertToInteractive(key) {\n",
              "          const element = document.querySelector('#df-b663893e-e2cf-4f89-959f-52a601807961');\n",
              "          const dataTable =\n",
              "            await google.colab.kernel.invokeFunction('convertToInteractive',\n",
              "                                                     [key], {});\n",
              "          if (!dataTable) return;\n",
              "\n",
              "          const docLinkHtml = 'Like what you see? Visit the ' +\n",
              "            '<a target=\"_blank\" href=https://colab.research.google.com/notebooks/data_table.ipynb>data table notebook</a>'\n",
              "            + ' to learn more about interactive tables.';\n",
              "          element.innerHTML = '';\n",
              "          dataTable['output_type'] = 'display_data';\n",
              "          await google.colab.output.renderOutput(dataTable, element);\n",
              "          const docLink = document.createElement('div');\n",
              "          docLink.innerHTML = docLinkHtml;\n",
              "          element.appendChild(docLink);\n",
              "        }\n",
              "      </script>\n",
              "    </div>\n",
              "  </div>\n",
              "  "
            ]
          },
          "metadata": {},
          "execution_count": 11
        }
      ]
    },
    {
      "cell_type": "code",
      "source": [
        "data['T'].rolling(window=365*10).mean().plot(figsize=(8,4),color='tab:red',title='Rolling mean over years interval')"
      ],
      "metadata": {
        "colab": {
          "base_uri": "https://localhost:8080/",
          "height": 302
        },
        "id": "6Bil3bGq4iwu",
        "outputId": "9bb45a1c-3d4b-4981-8354-05918d6290e4"
      },
      "execution_count": null,
      "outputs": [
        {
          "output_type": "execute_result",
          "data": {
            "text/plain": [
              "<matplotlib.axes._subplots.AxesSubplot at 0x7f1f86526a90>"
            ]
          },
          "metadata": {},
          "execution_count": 12
        },
        {
          "output_type": "display_data",
          "data": {
            "text/plain": [
              "<Figure size 576x288 with 1 Axes>"
            ],
            "image/png": "[encoded data removed]"
          },
          "metadata": {
            "needs_background": "light"
          }
        }
      ]
    },
    {
      "cell_type": "code",
      "source": [
        "data['T'].rolling(window=365*10).var().plot(figsize=(8,4),color='tab:red',title='variance over years interval')"
      ],
      "metadata": {
        "colab": {
          "base_uri": "https://localhost:8080/",
          "height": 302
        },
        "id": "LjgO12yw5E4p",
        "outputId": "efce709a-5dd6-4927-d60e-cfc2a5eaef34"
      },
      "execution_count": null,
      "outputs": [
        {
          "output_type": "execute_result",
          "data": {
            "text/plain": [
              "<matplotlib.axes._subplots.AxesSubplot at 0x7f1f85de77f0>"
            ]
          },
          "metadata": {},
          "execution_count": 13
        },
        {
          "output_type": "display_data",
          "data": {
            "text/plain": [
              "<Figure size 576x288 with 1 Axes>"
            ],
            "image/png": "[encoded data removed]"
          },
          "metadata": {
            "needs_background": "light"
          }
        }
      ]
    },
    {
      "cell_type": "code",
      "source": [
        "decompose_result=seasonal_decompose(data['T'],model='additive',period=int(365*10))\n",
        "trend=decompose_result.trend\n",
        "seasonal=decompose_result.seasonal\n",
        "residual=decompose_result.resid\n",
        "\n",
        "decompose_result.plot()\n",
        "plt.show()"
      ],
      "metadata": {
        "colab": {
          "base_uri": "https://localhost:8080/",
          "height": 297
        },
        "id": "0SoJ-2ws5-PW",
        "outputId": "869de080-2c9a-4000-ff32-ec9d7b4dd642"
      },
      "execution_count": null,
      "outputs": [
        {
          "output_type": "display_data",
          "data": {
            "text/plain": [
              "<Figure size 432x288 with 4 Axes>"
            ],
            "image/png": "[encoded data removed]"
          },
          "metadata": {
            "needs_background": "light"
          }
        }
      ]
    },
    {
      "cell_type": "code",
      "source": [
        "years_examine=365*10\n",
        "fig,axs=plt.subplots(3,figsize=(8,4))\n",
        "fig.suptitle('Removed Trend and Seasonality')\n",
        "axs[0].plot(trend[-years_examine:])\n",
        "axs[1].plot(seasonal[-years_examine:])\n",
        "axs[1].set_ylim([-10,10])\n",
        "axs[2].plot(residual[-years_examine:])\n",
        "axs[2].set_ylim([-15,15])"
      ],
      "metadata": {
        "colab": {
          "base_uri": "https://localhost:8080/",
          "height": 311
        },
        "id": "o1E93BgG6jtZ",
        "outputId": "83c83b0d-75f1-42b4-eb50-024d94781af4"
      },
      "execution_count": null,
      "outputs": [
        {
          "output_type": "execute_result",
          "data": {
            "text/plain": [
              "(-15.0, 15.0)"
            ]
          },
          "metadata": {},
          "execution_count": 15
        },
        {
          "output_type": "display_data",
          "data": {
            "text/plain": [
              "<Figure size 576x288 with 3 Axes>"
            ],
            "image/png": "[encoded data removed]"
          },
          "metadata": {
            "needs_background": "light"
          }
        }
      ]
    },
    {
      "cell_type": "code",
      "source": [
        "data['T'][:2000].plot(figsize=(12,4))"
      ],
      "metadata": {
        "colab": {
          "base_uri": "https://localhost:8080/",
          "height": 286
        },
        "id": "CS2sPhWwhU2R",
        "outputId": "ba93f814-e257-4e34-9765-db343018e122"
      },
      "execution_count": null,
      "outputs": [
        {
          "output_type": "execute_result",
          "data": {
            "text/plain": [
              "<matplotlib.axes._subplots.AxesSubplot at 0x7f1f828a5700>"
            ]
          },
          "metadata": {},
          "execution_count": 16
        },
        {
          "output_type": "display_data",
          "data": {
            "text/plain": [
              "<Figure size 864x288 with 1 Axes>"
            ],
            "image/png": "[encoded data removed]"
          },
          "metadata": {
            "needs_background": "light"
          }
        }
      ]
    },
    {
      "cell_type": "code",
      "source": [
        "pip install scipy"
      ],
      "metadata": {
        "colab": {
          "base_uri": "https://localhost:8080/"
        },
        "id": "cQeU-wsZ2t8f",
        "outputId": "91b590b9-cf2f-496e-a4c0-1e21f2ca039a"
      },
      "execution_count": null,
      "outputs": [
        {
          "output_type": "stream",
          "name": "stdout",
          "text": [
            "Looking in indexes: https://pypi.org/simple, https://us-python.pkg.dev/colab-wheels/public/simple/\n",
            "Requirement already satisfied: scipy in /usr/local/lib/python3.8/dist-packages (1.7.3)\n",
            "Requirement already satisfied: numpy<1.23.0,>=1.16.5 in /usr/local/lib/python3.8/dist-packages (from scipy) (1.21.6)\n"
          ]
        }
      ]
    },
    {
      "cell_type": "code",
      "source": [
        "import scipy\n",
        "temp_t = data['T'].copy(deep=True)\n",
        "temp_t = temp_t.to_frame()\n",
        "def model(x, a,b,c,d):\n",
        "    omega = 2*np.pi/365.25   \n",
        "    return  a + b*x + c*np.sin(omega*x + d)\n",
        "first_ord = temp_t.index.map(dt.datetime.toordinal)[0]\n",
        "temp_t.index=temp_t.index.map(dt.datetime.toordinal)\n",
        "params_all,cov = scipy.optimize.curve_fit(model,temp_t.index-first_ord, temp_t['T'])\n",
        "temp_t['model']=16.8+0.0000331*(temp_t.index-first_ord)+5.05*np.sin((2*np.pi/365.25)*(temp_t.index-first_ord)+1.26)\n",
        "temp_t['res']=temp_t['T']-temp_t['model']\n"
      ],
      "metadata": {
        "id": "-65_8d2sL9_y"
      },
      "execution_count": null,
      "outputs": []
    },
    {
      "cell_type": "code",
      "source": [
        "temp_t"
      ],
      "metadata": {
        "colab": {
          "base_uri": "https://localhost:8080/",
          "height": 455
        },
        "id": "p0HvsmnKXq6t",
        "outputId": "4514c1b6-cb77-436b-ff6e-773d54153ff7"
      },
      "execution_count": null,
      "outputs": [
        {
          "output_type": "execute_result",
          "data": {
            "text/plain": [
              "            T      model       res\n",
              "date                              \n",
              "678621  19.45  21.608056 -2.158056\n",
              "678622  20.05  21.633944 -1.583944\n",
              "678623  19.75  21.658401 -1.908401\n",
              "678624  21.05  21.681420 -0.631420\n",
              "678625  20.75  21.702995 -0.952995\n",
              "...       ...        ...       ...\n",
              "737663  13.20  14.645040 -1.445040\n",
              "737664  14.50  14.696175 -0.196175\n",
              "737665  15.05  14.748510  0.301490\n",
              "737666  14.70  14.802031 -0.102031\n",
              "737667  17.10  14.856721  2.243279\n",
              "\n",
              "[58889 rows x 3 columns]"
            ],
            "text/html": [
              "\n",
              "  <div id=\"df-4fa713fb-2393-41d1-a7bb-535225475887\">\n",
              "    <div class=\"colab-df-container\">\n",
              "      <div>\n",
              "<style scoped>\n",
              "    .dataframe tbody tr th:only-of-type {\n",
              "        vertical-align: middle;\n",
              "    }\n",
              "\n",
              "    .dataframe tbody tr th {\n",
              "        vertical-align: top;\n",
              "    }\n",
              "\n",
              "    .dataframe thead th {\n",
              "        text-align: right;\n",
              "    }\n",
              "</style>\n",
              "<table border=\"1\" class=\"dataframe\">\n",
              "  <thead>\n",
              "    <tr style=\"text-align: right;\">\n",
              "      <th></th>\n",
              "      <th>T</th>\n",
              "      <th>model</th>\n",
              "      <th>res</th>\n",
              "    </tr>\n",
              "    <tr>\n",
              "      <th>date</th>\n",
              "      <th></th>\n",
              "      <th></th>\n",
              "      <th></th>\n",
              "    </tr>\n",
              "  </thead>\n",
              "  <tbody>\n",
              "    <tr>\n",
              "      <th>678621</th>\n",
              "      <td>19.45</td>\n",
              "      <td>21.608056</td>\n",
              "      <td>-2.158056</td>\n",
              "    </tr>\n",
              "    <tr>\n",
              "      <th>678622</th>\n",
              "      <td>20.05</td>\n",
              "      <td>21.633944</td>\n",
              "      <td>-1.583944</td>\n",
              "    </tr>\n",
              "    <tr>\n",
              "      <th>678623</th>\n",
              "      <td>19.75</td>\n",
              "      <td>21.658401</td>\n",
              "      <td>-1.908401</td>\n",
              "    </tr>\n",
              "    <tr>\n",
              "      <th>678624</th>\n",
              "      <td>21.05</td>\n",
              "      <td>21.681420</td>\n",
              "      <td>-0.631420</td>\n",
              "    </tr>\n",
              "    <tr>\n",
              "      <th>678625</th>\n",
              "      <td>20.75</td>\n",
              "      <td>21.702995</td>\n",
              "      <td>-0.952995</td>\n",
              "    </tr>\n",
              "    <tr>\n",
              "      <th>...</th>\n",
              "      <td>...</td>\n",
              "      <td>...</td>\n",
              "      <td>...</td>\n",
              "    </tr>\n",
              "    <tr>\n",
              "      <th>737663</th>\n",
              "      <td>13.20</td>\n",
              "      <td>14.645040</td>\n",
              "      <td>-1.445040</td>\n",
              "    </tr>\n",
              "    <tr>\n",
              "      <th>737664</th>\n",
              "      <td>14.50</td>\n",
              "      <td>14.696175</td>\n",
              "      <td>-0.196175</td>\n",
              "    </tr>\n",
              "    <tr>\n",
              "      <th>737665</th>\n",
              "      <td>15.05</td>\n",
              "      <td>14.748510</td>\n",
              "      <td>0.301490</td>\n",
              "    </tr>\n",
              "    <tr>\n",
              "      <th>737666</th>\n",
              "      <td>14.70</td>\n",
              "      <td>14.802031</td>\n",
              "      <td>-0.102031</td>\n",
              "    </tr>\n",
              "    <tr>\n",
              "      <th>737667</th>\n",
              "      <td>17.10</td>\n",
              "      <td>14.856721</td>\n",
              "      <td>2.243279</td>\n",
              "    </tr>\n",
              "  </tbody>\n",
              "</table>\n",
              "<p>58889 rows × 3 columns</p>\n",
              "</div>\n",
              "      <button class=\"colab-df-convert\" onclick=\"convertToInteractive('df-4fa713fb-2393-41d1-a7bb-535225475887')\"\n",
              "              title=\"Convert this dataframe to an interactive table.\"\n",
              "              style=\"display:none;\">\n",
              "        \n",
              "  <svg xmlns=\"http://www.w3.org/2000/svg\" height=\"24px\"viewBox=\"0 0 24 24\"\n",
              "       width=\"24px\">\n",
              "    <path d=\"M0 0h24v24H0V0z\" fill=\"none\"/>\n",
              "    <path d=\"M18.56 5.44l.94 2.06.94-2.06 2.06-.94-2.06-.94-.94-2.06-.94 2.06-2.06.94zm-11 1L8.5 8.5l.94-2.06 2.06-.94-2.06-.94L8.5 2.5l-.94 2.06-2.06.94zm10 10l.94 2.06.94-2.06 2.06-.94-2.06-.94-.94-2.06-.94 2.06-2.06.94z\"/><path d=\"M17.41 7.96l-1.37-1.37c-.4-.4-.92-.59-1.43-.59-.52 0-1.04.2-1.43.59L10.3 9.45l-7.72 7.72c-.78.78-.78 2.05 0 2.83L4 21.41c.39.39.9.59 1.41.59.51 0 1.02-.2 1.41-.59l7.78-7.78 2.81-2.81c.8-.78.8-2.07 0-2.86zM5.41 20L4 18.59l7.72-7.72 1.47 1.35L5.41 20z\"/>\n",
              "  </svg>\n",
              "      </button>\n",
              "      \n",
              "  <style>\n",
              "    .colab-df-container {\n",
              "      display:flex;\n",
              "      flex-wrap:wrap;\n",
              "      gap: 12px;\n",
              "    }\n",
              "\n",
              "    .colab-df-convert {\n",
              "      background-color: #E8F0FE;\n",
              "      border: none;\n",
              "      border-radius: 50%;\n",
              "      cursor: pointer;\n",
              "      display: none;\n",
              "      fill: #1967D2;\n",
              "      height: 32px;\n",
              "      padding: 0 0 0 0;\n",
              "      width: 32px;\n",
              "    }\n",
              "\n",
              "    .colab-df-convert:hover {\n",
              "      background-color: #E2EBFA;\n",
              "      box-shadow: 0px 1px 2px rgba(60, 64, 67, 0.3), 0px 1px 3px 1px rgba(60, 64, 67, 0.15);\n",
              "      fill: #174EA6;\n",
              "    }\n",
              "\n",
              "    [theme=dark] .colab-df-convert {\n",
              "      background-color: #3B4455;\n",
              "      fill: #D2E3FC;\n",
              "    }\n",
              "\n",
              "    [theme=dark] .colab-df-convert:hover {\n",
              "      background-color: #434B5C;\n",
              "      box-shadow: 0px 1px 3px 1px rgba(0, 0, 0, 0.15);\n",
              "      filter: drop-shadow(0px 1px 2px rgba(0, 0, 0, 0.3));\n",
              "      fill: #FFFFFF;\n",
              "    }\n",
              "  </style>\n",
              "\n",
              "      <script>\n",
              "        const buttonEl =\n",
              "          document.querySelector('#df-4fa713fb-2393-41d1-a7bb-535225475887 button.colab-df-convert');\n",
              "        buttonEl.style.display =\n",
              "          google.colab.kernel.accessAllowed ? 'block' : 'none';\n",
              "\n",
              "        async function convertToInteractive(key) {\n",
              "          const element = document.querySelector('#df-4fa713fb-2393-41d1-a7bb-535225475887');\n",
              "          const dataTable =\n",
              "            await google.colab.kernel.invokeFunction('convertToInteractive',\n",
              "                                                     [key], {});\n",
              "          if (!dataTable) return;\n",
              "\n",
              "          const docLinkHtml = 'Like what you see? Visit the ' +\n",
              "            '<a target=\"_blank\" href=https://colab.research.google.com/notebooks/data_table.ipynb>data table notebook</a>'\n",
              "            + ' to learn more about interactive tables.';\n",
              "          element.innerHTML = '';\n",
              "          dataTable['output_type'] = 'display_data';\n",
              "          await google.colab.output.renderOutput(dataTable, element);\n",
              "          const docLink = document.createElement('div');\n",
              "          docLink.innerHTML = docLinkHtml;\n",
              "          element.appendChild(docLink);\n",
              "        }\n",
              "      </script>\n",
              "    </div>\n",
              "  </div>\n",
              "  "
            ]
          },
          "metadata": {},
          "execution_count": 19
        }
      ]
    },
    {
      "cell_type": "code",
      "source": [
        "params_all"
      ],
      "metadata": {
        "colab": {
          "base_uri": "https://localhost:8080/"
        },
        "id": "xSUNhhBKMlCd",
        "outputId": "26569e68-5ad1-4bf2-a70e-0bc257a381f8"
      },
      "execution_count": null,
      "outputs": [
        {
          "output_type": "execute_result",
          "data": {
            "text/plain": [
              "array([1.68031864e+01, 3.31383724e-05, 5.04921721e+00, 1.26450227e+00])"
            ]
          },
          "metadata": {},
          "execution_count": 20
        }
      ]
    },
    {
      "cell_type": "markdown",
      "source": [
        "T(m)=16.8+(3.31e−05)t+5.05sin((2π365.25)t+1.26)"
      ],
      "metadata": {
        "id": "fxSw-gMJLJjH"
      }
    },
    {
      "cell_type": "markdown",
      "source": [
        "Euler Discretization of our SDE over the interval between t∈[i−1,i]\n",
        "\n",
        "Ti–Ti−1=T¯i−T¯i−1+κ(T¯i−1–Ti−1)+σizi Ti−T¯i=Ti−1+T¯i−i–κ(Ti−1–T¯i−1)+σizi Where zt∼N(0,1). Now let’s create a term for when we de-trend and remove seasonality from our original DAT series. Let’s call this transformation Tt^=Tt–Tt¯, therefore we get:\n",
        "\n",
        "Ti^=T^i−1–κ(T^i−1)+σizi This can be modelled as an AR(1) process:\n",
        "\n",
        "Ti^=γT^i−1+ei where κ=1–γ, and ei=σizi"
      ],
      "metadata": {
        "id": "vuWb3UYuRca0"
      }
    },
    {
      "cell_type": "code",
      "source": [
        "model = AutoReg(temp_t['res'], lags=1)\n",
        "model_fit  = model.fit()\n",
        "model_fit.summary()"
      ],
      "metadata": {
        "colab": {
          "base_uri": "https://localhost:8080/",
          "height": 403
        },
        "id": "kaQ8TJKU_VRA",
        "outputId": "ce8d9706-78ff-4eb7-cd40-6a9eef27f245"
      },
      "execution_count": null,
      "outputs": [
        {
          "output_type": "stream",
          "name": "stderr",
          "text": [
            "/usr/local/lib/python3.8/dist-packages/statsmodels/tsa/base/tsa_model.py:578: ValueWarning: An unsupported index was provided and will be ignored when e.g. forecasting.\n",
            "  warnings.warn('An unsupported index was provided and will be'\n",
            "/usr/local/lib/python3.8/dist-packages/statsmodels/tsa/ar_model.py:248: FutureWarning: The parameter names will change after 0.12 is released. Set old_names to False to use the new names now. Set old_names to True to use the old names. \n",
            "  warnings.warn(\n"
          ]
        },
        {
          "output_type": "execute_result",
          "data": {
            "text/plain": [
              "<class 'statsmodels.iolib.summary.Summary'>\n",
              "\"\"\"\n",
              "                            AutoReg Model Results                             \n",
              "==============================================================================\n",
              "Dep. Variable:                    res   No. Observations:                58889\n",
              "Model:                     AutoReg(1)   Log Likelihood             -122001.972\n",
              "Method:               Conditional MLE   S.D. of innovations              1.921\n",
              "Date:                Mon, 26 Dec 2022   AIC                              1.306\n",
              "Time:                        12:50:52   BIC                              1.306\n",
              "Sample:                             1   HQIC                             1.306\n",
              "                                58889                                         \n",
              "==============================================================================\n",
              "                 coef    std err          z      P>|z|      [0.025      0.975]\n",
              "------------------------------------------------------------------------------\n",
              "intercept      0.0019      0.008      0.244      0.807      -0.014       0.017\n",
              "res.L1         0.5617      0.003    164.773      0.000       0.555       0.568\n",
              "                                    Roots                                    \n",
              "=============================================================================\n",
              "                  Real          Imaginary           Modulus         Frequency\n",
              "-----------------------------------------------------------------------------\n",
              "AR.1            1.7802           +0.0000j            1.7802            0.0000\n",
              "-----------------------------------------------------------------------------\n",
              "\"\"\""
            ],
            "text/html": [
              "<table class=\"simpletable\">\n",
              "<caption>AutoReg Model Results</caption>\n",
              "<tr>\n",
              "  <th>Dep. Variable:</th>        <td>res</td>       <th>  No. Observations:  </th>    <td>58889</td>   \n",
              "</tr>\n",
              "<tr>\n",
              "  <th>Model:</th>            <td>AutoReg(1)</td>    <th>  Log Likelihood     </th> <td>-122001.972</td>\n",
              "</tr>\n",
              "<tr>\n",
              "  <th>Method:</th>         <td>Conditional MLE</td> <th>  S.D. of innovations</th>    <td>1.921</td>   \n",
              "</tr>\n",
              "<tr>\n",
              "  <th>Date:</th>          <td>Mon, 26 Dec 2022</td> <th>  AIC                </th>    <td>1.306</td>   \n",
              "</tr>\n",
              "<tr>\n",
              "  <th>Time:</th>              <td>12:50:52</td>     <th>  BIC                </th>    <td>1.306</td>   \n",
              "</tr>\n",
              "<tr>\n",
              "  <th>Sample:</th>                <td>1</td>        <th>  HQIC               </th>    <td>1.306</td>   \n",
              "</tr>\n",
              "<tr>\n",
              "  <th></th>                     <td>58889</td>      <th>                     </th>      <td> </td>     \n",
              "</tr>\n",
              "</table>\n",
              "<table class=\"simpletable\">\n",
              "<tr>\n",
              "      <td></td>         <th>coef</th>     <th>std err</th>      <th>z</th>      <th>P>|z|</th>  <th>[0.025</th>    <th>0.975]</th>  \n",
              "</tr>\n",
              "<tr>\n",
              "  <th>intercept</th> <td>    0.0019</td> <td>    0.008</td> <td>    0.244</td> <td> 0.807</td> <td>   -0.014</td> <td>    0.017</td>\n",
              "</tr>\n",
              "<tr>\n",
              "  <th>res.L1</th>    <td>    0.5617</td> <td>    0.003</td> <td>  164.773</td> <td> 0.000</td> <td>    0.555</td> <td>    0.568</td>\n",
              "</tr>\n",
              "</table>\n",
              "<table class=\"simpletable\">\n",
              "<caption>Roots</caption>\n",
              "<tr>\n",
              "    <td></td>   <th>            Real</th>  <th>         Imaginary</th> <th>         Modulus</th>  <th>        Frequency</th>\n",
              "</tr>\n",
              "<tr>\n",
              "  <th>AR.1</th> <td>           1.7802</td> <td>          +0.0000j</td> <td>           1.7802</td> <td>           0.0000</td>\n",
              "</tr>\n",
              "</table>"
            ]
          },
          "metadata": {},
          "execution_count": 21
        }
      ]
    },
    {
      "cell_type": "markdown",
      "source": [
        "therefore alpha=1-0.5617=0.438 now, dT(t)=[dT(m)/dt+0.438(T(m)–Tt)]dt+σ(t)dW(t)\n",
        "\n"
      ],
      "metadata": {
        "id": "1c6dJ74cgve-"
      }
    },
    {
      "cell_type": "code",
      "source": [
        "temp_t = data['T'].copy(deep=True)\n",
        "temp_t = temp_t.to_frame()\n",
        "first_ord = temp_t.index.map(dt.datetime.toordinal)[0]\n",
        "temp_vol = data['T'].copy(deep=True).to_frame()\n",
        "temp_vol['day'] = temp_vol.index.dayofyear\n",
        "temp_vol['month'] = temp_vol.index.month\n",
        "vol = temp_vol.groupby(['day'])['T'].agg(['mean','std'])\n",
        "days = np.array(vol['std'].index)\n",
        "T_std = np.array(vol['std'].values)"
      ],
      "metadata": {
        "id": "QRuXnTVy6vps"
      },
      "execution_count": null,
      "outputs": []
    },
    {
      "cell_type": "code",
      "source": [
        "vol"
      ],
      "metadata": {
        "colab": {
          "base_uri": "https://localhost:8080/",
          "height": 455
        },
        "id": "-vLip5M5eJiL",
        "outputId": "237debc7-0737-4f81-9724-494123897cd7"
      },
      "execution_count": null,
      "outputs": [
        {
          "output_type": "execute_result",
          "data": {
            "text/plain": [
              "          mean       std\n",
              "day                     \n",
              "1    22.184783  2.286448\n",
              "2    22.274074  2.310839\n",
              "3    22.191358  2.386996\n",
              "4    22.348148  2.495119\n",
              "5    22.292236  2.662292\n",
              "..         ...       ...\n",
              "362  21.872360  2.547915\n",
              "363  21.793437  2.409038\n",
              "364  21.905280  2.342632\n",
              "365  22.055901  2.302515\n",
              "366  22.096154  2.708961\n",
              "\n",
              "[366 rows x 2 columns]"
            ],
            "text/html": [
              "\n",
              "  <div id=\"df-4ba54cd4-407f-4cd1-8003-2467806efde5\">\n",
              "    <div class=\"colab-df-container\">\n",
              "      <div>\n",
              "<style scoped>\n",
              "    .dataframe tbody tr th:only-of-type {\n",
              "        vertical-align: middle;\n",
              "    }\n",
              "\n",
              "    .dataframe tbody tr th {\n",
              "        vertical-align: top;\n",
              "    }\n",
              "\n",
              "    .dataframe thead th {\n",
              "        text-align: right;\n",
              "    }\n",
              "</style>\n",
              "<table border=\"1\" class=\"dataframe\">\n",
              "  <thead>\n",
              "    <tr style=\"text-align: right;\">\n",
              "      <th></th>\n",
              "      <th>mean</th>\n",
              "      <th>std</th>\n",
              "    </tr>\n",
              "    <tr>\n",
              "      <th>day</th>\n",
              "      <th></th>\n",
              "      <th></th>\n",
              "    </tr>\n",
              "  </thead>\n",
              "  <tbody>\n",
              "    <tr>\n",
              "      <th>1</th>\n",
              "      <td>22.184783</td>\n",
              "      <td>2.286448</td>\n",
              "    </tr>\n",
              "    <tr>\n",
              "      <th>2</th>\n",
              "      <td>22.274074</td>\n",
              "      <td>2.310839</td>\n",
              "    </tr>\n",
              "    <tr>\n",
              "      <th>3</th>\n",
              "      <td>22.191358</td>\n",
              "      <td>2.386996</td>\n",
              "    </tr>\n",
              "    <tr>\n",
              "      <th>4</th>\n",
              "      <td>22.348148</td>\n",
              "      <td>2.495119</td>\n",
              "    </tr>\n",
              "    <tr>\n",
              "      <th>5</th>\n",
              "      <td>22.292236</td>\n",
              "      <td>2.662292</td>\n",
              "    </tr>\n",
              "    <tr>\n",
              "      <th>...</th>\n",
              "      <td>...</td>\n",
              "      <td>...</td>\n",
              "    </tr>\n",
              "    <tr>\n",
              "      <th>362</th>\n",
              "      <td>21.872360</td>\n",
              "      <td>2.547915</td>\n",
              "    </tr>\n",
              "    <tr>\n",
              "      <th>363</th>\n",
              "      <td>21.793437</td>\n",
              "      <td>2.409038</td>\n",
              "    </tr>\n",
              "    <tr>\n",
              "      <th>364</th>\n",
              "      <td>21.905280</td>\n",
              "      <td>2.342632</td>\n",
              "    </tr>\n",
              "    <tr>\n",
              "      <th>365</th>\n",
              "      <td>22.055901</td>\n",
              "      <td>2.302515</td>\n",
              "    </tr>\n",
              "    <tr>\n",
              "      <th>366</th>\n",
              "      <td>22.096154</td>\n",
              "      <td>2.708961</td>\n",
              "    </tr>\n",
              "  </tbody>\n",
              "</table>\n",
              "<p>366 rows × 2 columns</p>\n",
              "</div>\n",
              "      <button class=\"colab-df-convert\" onclick=\"convertToInteractive('df-4ba54cd4-407f-4cd1-8003-2467806efde5')\"\n",
              "              title=\"Convert this dataframe to an interactive table.\"\n",
              "              style=\"display:none;\">\n",
              "        \n",
              "  <svg xmlns=\"http://www.w3.org/2000/svg\" height=\"24px\"viewBox=\"0 0 24 24\"\n",
              "       width=\"24px\">\n",
              "    <path d=\"M0 0h24v24H0V0z\" fill=\"none\"/>\n",
              "    <path d=\"M18.56 5.44l.94 2.06.94-2.06 2.06-.94-2.06-.94-.94-2.06-.94 2.06-2.06.94zm-11 1L8.5 8.5l.94-2.06 2.06-.94-2.06-.94L8.5 2.5l-.94 2.06-2.06.94zm10 10l.94 2.06.94-2.06 2.06-.94-2.06-.94-.94-2.06-.94 2.06-2.06.94z\"/><path d=\"M17.41 7.96l-1.37-1.37c-.4-.4-.92-.59-1.43-.59-.52 0-1.04.2-1.43.59L10.3 9.45l-7.72 7.72c-.78.78-.78 2.05 0 2.83L4 21.41c.39.39.9.59 1.41.59.51 0 1.02-.2 1.41-.59l7.78-7.78 2.81-2.81c.8-.78.8-2.07 0-2.86zM5.41 20L4 18.59l7.72-7.72 1.47 1.35L5.41 20z\"/>\n",
              "  </svg>\n",
              "      </button>\n",
              "      \n",
              "  <style>\n",
              "    .colab-df-container {\n",
              "      display:flex;\n",
              "      flex-wrap:wrap;\n",
              "      gap: 12px;\n",
              "    }\n",
              "\n",
              "    .colab-df-convert {\n",
              "      background-color: #E8F0FE;\n",
              "      border: none;\n",
              "      border-radius: 50%;\n",
              "      cursor: pointer;\n",
              "      display: none;\n",
              "      fill: #1967D2;\n",
              "      height: 32px;\n",
              "      padding: 0 0 0 0;\n",
              "      width: 32px;\n",
              "    }\n",
              "\n",
              "    .colab-df-convert:hover {\n",
              "      background-color: #E2EBFA;\n",
              "      box-shadow: 0px 1px 2px rgba(60, 64, 67, 0.3), 0px 1px 3px 1px rgba(60, 64, 67, 0.15);\n",
              "      fill: #174EA6;\n",
              "    }\n",
              "\n",
              "    [theme=dark] .colab-df-convert {\n",
              "      background-color: #3B4455;\n",
              "      fill: #D2E3FC;\n",
              "    }\n",
              "\n",
              "    [theme=dark] .colab-df-convert:hover {\n",
              "      background-color: #434B5C;\n",
              "      box-shadow: 0px 1px 3px 1px rgba(0, 0, 0, 0.15);\n",
              "      filter: drop-shadow(0px 1px 2px rgba(0, 0, 0, 0.3));\n",
              "      fill: #FFFFFF;\n",
              "    }\n",
              "  </style>\n",
              "\n",
              "      <script>\n",
              "        const buttonEl =\n",
              "          document.querySelector('#df-4ba54cd4-407f-4cd1-8003-2467806efde5 button.colab-df-convert');\n",
              "        buttonEl.style.display =\n",
              "          google.colab.kernel.accessAllowed ? 'block' : 'none';\n",
              "\n",
              "        async function convertToInteractive(key) {\n",
              "          const element = document.querySelector('#df-4ba54cd4-407f-4cd1-8003-2467806efde5');\n",
              "          const dataTable =\n",
              "            await google.colab.kernel.invokeFunction('convertToInteractive',\n",
              "                                                     [key], {});\n",
              "          if (!dataTable) return;\n",
              "\n",
              "          const docLinkHtml = 'Like what you see? Visit the ' +\n",
              "            '<a target=\"_blank\" href=https://colab.research.google.com/notebooks/data_table.ipynb>data table notebook</a>'\n",
              "            + ' to learn more about interactive tables.';\n",
              "          element.innerHTML = '';\n",
              "          dataTable['output_type'] = 'display_data';\n",
              "          await google.colab.output.renderOutput(dataTable, element);\n",
              "          const docLink = document.createElement('div');\n",
              "          docLink.innerHTML = docLinkHtml;\n",
              "          element.appendChild(docLink);\n",
              "        }\n",
              "      </script>\n",
              "    </div>\n",
              "  </div>\n",
              "  "
            ]
          },
          "metadata": {},
          "execution_count": 23
        }
      ]
    },
    {
      "cell_type": "code",
      "source": [
        "from scipy.integrate import quad\n",
        "from scipy import stats, interpolate"
      ],
      "metadata": {
        "id": "8xKW-Ypb4dZD"
      },
      "execution_count": null,
      "outputs": []
    },
    {
      "cell_type": "code",
      "source": [
        "def T_model(x, a, b, alpha, theta):\n",
        "    omega = 2*np.pi/365.25\n",
        "    T = a + b*x + alpha*np.sin(omega*x + theta)\n",
        "    return T\n",
        "def dT_model(x, a, b, alpha, theta):\n",
        "    omega=2*np.pi/365.25\n",
        "    dT =  b + alpha*omega*np.cos(omega*x + theta)\n",
        "    return dT\n",
        "def spline(knots, x, y):\n",
        "    x_new = np.linspace(0, 1, knots+2)[1:-1]\n",
        "    t, c, k = interpolate.splrep(x, y, t=np.quantile(x, x_new), s=3)\n",
        "    yfit = interpolate.BSpline(t,c, k)(x)\n",
        "    return yfit\n",
        "Tbar_params = [16.8, 3.32e-05, 5.05, 1.27]\n"
      ],
      "metadata": {
        "id": "qn4gYX093xoa"
      },
      "execution_count": null,
      "outputs": []
    },
    {
      "cell_type": "code",
      "source": [
        "def rn_mean(time_arr, vol_arr, Tbars, lamda, kappa):\n",
        "    \"\"\"Evaluate the risk neutral integral above for each segment of constant volatility\n",
        "    Rectangular integration with step size of days\n",
        "    \"\"\"\n",
        "    dt = 1/365.25\n",
        "    N = len(time_arr)\n",
        "    mean_intervals = -vol_arr*(1 - np.exp(-kappa*dt))/kappa\n",
        "    return 18*N - (np.sum(Tbars) - lamda*np.sum(mean_intervals))\n",
        "\n",
        "def rn_var(time_arr, vol_arr, kappa):\n",
        "    \"\"\"Evaluate the risk neutral integral above for each segment of constant volatility\n",
        "    Rectangular integration with step size of days\n",
        "    \"\"\"\n",
        "    dt = 1/365.25 \n",
        "    var_arr = np.power(vol_arr,2) \n",
        "    var_intervals = var_arr/(2*kappa)*(1-np.exp(-2*kappa*dt))\n",
        "    cov_sum = 0\n",
        "    for i, ti in enumerate(time_arr):\n",
        "        for j, tj in enumerate(time_arr):\n",
        "            if j > i:\n",
        "                cov_sum += np.exp(-kappa*(tj-ti)) * var_intervals[i]\n",
        "    return np.sum(var_intervals) + 2*cov_sum\n",
        "    \n",
        "def risk_neutral(trading_dates, Tbar_params, vol_model, first_ord, lamda, kappa=0.438):\n",
        "    if isinstance(trading_dates, pd.DatetimeIndex):\n",
        "        trading_date=trading_dates.map(dt.datetime.toordinal)\n",
        "  \n",
        "    Tbars = T_model(trading_date-first_ord, *Tbar_params) \n",
        "    dTbars = dT_model(trading_date-first_ord, *Tbar_params) \n",
        "    mc_temps = pd.DataFrame(data=np.array([Tbars, dTbars]).T,\n",
        "                            index=trading_dates, columns=['Tbar','dTbar'])\n",
        "    mc_temps['day'] = mc_temps.index.dayofyear\n",
        "    mc_temps['vol'] = vol_model[mc_temps['day']-1]\n",
        "    time_arr = np.array([i/365.25 for i in range(1,len(trading_dates)+1)])\n",
        "    vol_arr = mc_temps['vol'].values\n",
        "    mu_rn = rn_mean(time_arr, vol_arr, Tbars, lamda, kappa)\n",
        "    var_rn = rn_var(time_arr, vol_arr, kappa)\n",
        "    return mu_rn, var_rn"
      ],
      "metadata": {
        "id": "ig6Dvjql3ENA"
      },
      "execution_count": null,
      "outputs": []
    },
    {
      "cell_type": "code",
      "source": [
        "volatility = spline(5, days, T_std)\n",
        "def winter_option(trading_dates, r, alpha, K, tau, opt='c', lamda=0.0):\n",
        "    \"\"\"Evaluate the fair value of temperature option in winter\n",
        "    Based on heating degree days only if the physical probability that \n",
        "    the average temperature exceeds the Tref (18 degC) is close to 0 \n",
        "    \"\"\"\n",
        "    mu_rn, var_rn = risk_neutral(trading_dates, Tbar_params, volatility, first_ord, lamda)\n",
        "    disc = np.exp(-r*tau)\n",
        "    vol_rn = np.sqrt(var_rn)\n",
        "    zt = (K - mu_rn)/vol_rn\n",
        "    exp = np.exp(-zt**2/2)\n",
        "    if opt == 'c':\n",
        "        return alpha*disc*((mu_rn - K)*stats.norm.cdf(-zt) + vol_rn*exp/np.sqrt(2*np.pi))\n",
        "    else:\n",
        "        exp2 = np.exp(-mu_rn**2/(2*vol_rn**2))\n",
        "        return alpha*disc*((K - mu_rn)*(stats.norm.cdf(zt) - stats.norm.cdf(-mu_rn/vol_rn)) +\n",
        "                           vol_rn/np.sqrt(2*np.pi)*(exp-exp2))\n",
        "trading_dates = pd.date_range(start='2023-06-01', end='2023-08-31', freq='D')\n",
        "r=0.05\n",
        "K=300\n",
        "alpha=2500\n",
        "def years_between(d1, d2):\n",
        "    d1 = dt.datetime.strptime(d1, \"%Y-%m-%d\")\n",
        "    d2 = dt.datetime.strptime(d2, \"%Y-%m-%d\")\n",
        "    return abs((d2 - d1).days)/365.25\n",
        "start ='2023-06-01'\n",
        "end = '2023-08-31'\n",
        "tau = years_between(start, end)\n",
        "print('Start Valuation Date:', start, \n",
        "      '\\nEnd of Contract Date:', end, \n",
        "      '\\nYears between Dates :', round(tau,3))\n",
        "print('Call Price: ', round(winter_option(trading_dates, r, alpha, K, tau, 'c'),2))\n",
        "print('Put Price : ', round(winter_option(trading_dates, r, alpha, K, tau, 'p'),2))"
      ],
      "metadata": {
        "colab": {
          "base_uri": "https://localhost:8080/"
        },
        "id": "8MH7s3aB3ERb",
        "outputId": "86577581-cd8b-4822-8568-099f05171339"
      },
      "execution_count": null,
      "outputs": [
        {
          "output_type": "stream",
          "name": "stdout",
          "text": [
            "Start Valuation Date: 2023-06-01 \n",
            "End of Contract Date: 2023-08-31 \n",
            "Years between Dates : 0.249\n",
            "Call Price:  106520.74\n",
            "Put Price :  0.0\n"
          ]
        }
      ]
    },
    {
      "cell_type": "code",
      "source": [
        "first_ord"
      ],
      "metadata": {
        "id": "SnFBXM5R3EW-",
        "colab": {
          "base_uri": "https://localhost:8080/"
        },
        "outputId": "a42fbb35-6eae-4446-af37-3ea9772e242c"
      },
      "execution_count": null,
      "outputs": [
        {
          "output_type": "execute_result",
          "data": {
            "text/plain": [
              "678621"
            ]
          },
          "metadata": {},
          "execution_count": 36
        }
      ]
    }
  ]
}